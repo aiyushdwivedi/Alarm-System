{
 "cells": [
  {
   "cell_type": "code",
   "execution_count": null,
   "id": "93654eef",
   "metadata": {},
   "outputs": [],
   "source": [
    "import cv2\n",
    "import os\n",
    "import imutils \n",
    "import threading #it is used to handel multiple threads \n",
    "import winsound #for the alarm sound"
   ]
  },
  {
   "cell_type": "code",
   "execution_count": null,
   "id": "e111238a",
   "metadata": {},
   "outputs": [],
   "source": [
    "cap=cv2.VideoCapture(0,cv2.CAP_DSHOW) #for the camera\n",
    "#the box dimensions\n",
    "cap.set(cv2.CAP_PROP_FRAME_WIDTH,640)\n",
    "cap.set(cv2.CAP_PROP_FRAME_HEIGHT,480)"
   ]
  },
  {
   "cell_type": "code",
   "execution_count": null,
   "id": "3af8f6d3",
   "metadata": {},
   "outputs": [],
   "source": [
    "#the cam setup\n",
    "_,start_frame = cap.read()\n",
    "start_frame=imutils.resize(start_frame, width=500)\n",
    "start_frame=cv2.cvtColor(start_frame, cv2.COLOR_BGR2GRAY)\n",
    "start_frame=cv2.GaussianBlur(start_frame, (21,21),0)"
   ]
  },
  {
   "cell_type": "code",
   "execution_count": null,
   "id": "05c7cace",
   "metadata": {
    "lines_to_next_cell": 1
   },
   "outputs": [],
   "source": [
    "#alarm\n",
    "alarm= False\n",
    "alarm_mode=False\n",
    "alarm_counter=0"
   ]
  },
  {
   "cell_type": "code",
   "execution_count": null,
   "id": "6277e4ed",
   "metadata": {},
   "outputs": [],
   "source": [
    "#function to trigger alarm\n",
    "def beep_alarm():\n",
    "    global alarm\n",
    "    for _ in range(5):\n",
    "        if not alarm_mode:\n",
    "            break\n",
    "        print(\"ALARM\")\n",
    "        winsound.Beep(2500 , 1000)\n",
    "    alarm=False"
   ]
  },
  {
   "cell_type": "code",
   "execution_count": null,
   "id": "f2b85ba4",
   "metadata": {},
   "outputs": [],
   "source": [
    "#alarm should trigger on motion \n",
    "while True:\n",
    "    _, frame=cap.read()\n",
    "    frame=imutils.resize(frame, width=500)\n",
    "\n",
    "    if alarm_mode:\n",
    "        frame_Bw=cv2.cvtColor(frame,cv2.COLOR_BGR2GRAY)\n",
    "        frame_Bw=cv2.GaussianBlur(frame_Bw,(5,5),0)\n",
    "\n",
    "        diffrence= cv2.absdiff(frame_Bw , start_frame)\n",
    "        threshold=cv2.threshold(diffrence,25 , 255, cv2.THRESH_BINARY)[1]\n",
    "        start_frame = frame_Bw\n",
    "\n",
    "        if threshold.sum() > 300:\n",
    "            alarm_counter += 1\n",
    "        else:\n",
    "            if alarm_counter > 0:\n",
    "                alarm_counter -= 1\n",
    "        cv2.imshow(\"CAM\", threshold)\n",
    "    else:\n",
    "        cv2.imshow(\"CAM\", frame)\n",
    "    if alarm_counter >20 :\n",
    "        if not alarm:\n",
    "            alarm=True\n",
    "            threading.Thread(target=beep_alarm).start()\n",
    "    key_pressed=cv2.waitKey(30)\n",
    "    if key_pressed == ord(\"a\"):\n",
    "        alarm_mode = not alarm_mode\n",
    "        alarm_counter=0\n",
    "    \n",
    "    if key_pressed==ord(\"q\"):\n",
    "        alarm_mode= False\n",
    "        break"
   ]
  },
  {
   "cell_type": "code",
   "execution_count": null,
   "id": "eb1d6c52",
   "metadata": {},
   "outputs": [],
   "source": [
    "cap.release()\n",
    "cv2.destroyAllWindows()"
   ]
  },
  {
   "cell_type": "code",
   "execution_count": null,
   "id": "f35325e0",
   "metadata": {},
   "outputs": [],
   "source": []
  },
  {
   "cell_type": "code",
   "execution_count": null,
   "id": "c2c86d36",
   "metadata": {},
   "outputs": [],
   "source": []
  },
  {
   "cell_type": "code",
   "execution_count": null,
   "id": "e91ea2c6",
   "metadata": {},
   "outputs": [],
   "source": []
  }
 ],
 "metadata": {
  "jupytext": {
   "cell_metadata_filter": "-all",
   "main_language": "python",
   "notebook_metadata_filter": "-all"
  },
  "kernelspec": {
   "display_name": "Python 3 (ipykernel)",
   "language": "python",
   "name": "python3"
  },
  "language_info": {
   "codemirror_mode": {
    "name": "ipython",
    "version": 3
   },
   "file_extension": ".py",
   "mimetype": "text/x-python",
   "name": "python",
   "nbconvert_exporter": "python",
   "pygments_lexer": "ipython3",
   "version": "3.11.3"
  }
 },
 "nbformat": 4,
 "nbformat_minor": 5
}
